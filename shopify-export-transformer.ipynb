{
 "cells": [
  {
   "cell_type": "code",
   "execution_count": 1,
   "metadata": {},
   "outputs": [],
   "source": [
    "import csv\n",
    "import os\n",
    "import pandas as pd\n",
    "\n",
    "file_format = \"csv\" # or \"xlsx\"\n",
    "\n",
    "def parse_csv(input_file, output_file, file_format=\"csv\"):\n",
    "    rows = []\n",
    "    with open(input_file, 'r', newline='', encoding='utf-8') as csvfile:\n",
    "        reader = csv.reader(csvfile, delimiter=',', quotechar='\"')\n",
    "        for row in reader:\n",
    "            new_row = []\n",
    "            for cell in row:\n",
    "                # remove linebreaks within a cell\n",
    "                cleaned_cell = cell.replace('\\n', '').replace('\\r', '')\n",
    "                # replace double quotes within a cell\n",
    "                cleaned_cell = cleaned_cell.replace('\"\"', '\"')\n",
    "                new_row.append(cleaned_cell)\n",
    "            rows.append(new_row)\n",
    "\n",
    "    df = pd.DataFrame(rows)\n",
    "\n",
    "    if file_format.lower() == \"csv\":\n",
    "        df.to_csv(output_file, index=False, header=False)\n",
    "    elif file_format.lower() == \"xlsx\":\n",
    "        df.to_excel(output_file, index=False, header=False, engine='openpyxl')\n",
    "    else:\n",
    "        print(f\"Unsupported output file format: {file_format}\")\n",
    "        return\n",
    "\n",
    "input_dir = '/input'\n",
    "output_dir = '/output'\n",
    "\n",
    "# Ensure the output directory exists\n",
    "os.makedirs(output_dir, exist_ok=True)\n",
    "\n",
    "# Loop over all files in the input directory\n",
    "for filename in os.listdir(input_dir):\n",
    "    # Skip files that aren't CSVs\n",
    "    if not filename.endswith('.csv'):\n",
    "        continue\n",
    "\n",
    "    # Construct full file paths\n",
    "    input_file = os.path.join(input_dir, filename)\n",
    "    output_file = os.path.join(output_dir, filename)\n",
    "\n",
    "    # Change the extension to the desired output format\n",
    "    output_file = os.path.splitext(output_file)[0] + '.' + 'xlsx'\n",
    "\n",
    "    parse_csv(input_file, output_file, 'xlsx')"
   ]
  }
 ],
 "metadata": {
  "kernelspec": {
   "display_name": "Python 3",
   "language": "python",
   "name": "python3"
  },
  "language_info": {
   "codemirror_mode": {
    "name": "ipython",
    "version": 3
   },
   "file_extension": ".py",
   "mimetype": "text/x-python",
   "name": "python",
   "nbconvert_exporter": "python",
   "pygments_lexer": "ipython3",
   "version": "3.11.1"
  },
  "orig_nbformat": 4
 },
 "nbformat": 4,
 "nbformat_minor": 2
}
