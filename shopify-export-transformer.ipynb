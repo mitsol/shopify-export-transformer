{
 "cells": [
  {
   "cell_type": "code",
   "execution_count": 3,
   "metadata": {},
   "outputs": [
    {
     "ename": "OSError",
     "evalue": "[Errno 30] Read-only file system: '/output'",
     "output_type": "error",
     "traceback": [
      "\u001b[0;31m---------------------------------------------------------------------------\u001b[0m",
      "\u001b[0;31mOSError\u001b[0m                                   Traceback (most recent call last)",
      "Cell \u001b[0;32mIn[3], line 35\u001b[0m\n\u001b[1;32m     32\u001b[0m output_dir \u001b[39m=\u001b[39m \u001b[39m'\u001b[39m\u001b[39m/output\u001b[39m\u001b[39m'\u001b[39m\n\u001b[1;32m     34\u001b[0m \u001b[39m# Ensure the output directory exists\u001b[39;00m\n\u001b[0;32m---> 35\u001b[0m os\u001b[39m.\u001b[39;49mmakedirs(output_dir, exist_ok\u001b[39m=\u001b[39;49m\u001b[39mTrue\u001b[39;49;00m)\n\u001b[1;32m     37\u001b[0m \u001b[39m# Loop over all files in the input directory\u001b[39;00m\n\u001b[1;32m     38\u001b[0m \u001b[39mfor\u001b[39;00m filename \u001b[39min\u001b[39;00m os\u001b[39m.\u001b[39mlistdir(input_dir):\n\u001b[1;32m     39\u001b[0m     \u001b[39m# Skip files that aren't CSVs\u001b[39;00m\n",
      "File \u001b[0;32m<frozen os>:225\u001b[0m, in \u001b[0;36mmakedirs\u001b[0;34m(name, mode, exist_ok)\u001b[0m\n",
      "\u001b[0;31mOSError\u001b[0m: [Errno 30] Read-only file system: '/output'"
     ]
    }
   ],
   "source": [
    "import csv\n",
    "import os\n",
    "import pandas as pd\n",
    "\n",
    "file_format = \"csv\" # or \"xlsx\"\n",
    "\n",
    "def parse_csv(input_file, output_file, file_format=\"csv\"):\n",
    "    rows = []\n",
    "    with open(input_file, 'r', newline='', encoding='utf-8') as csvfile:\n",
    "        reader = csv.reader(csvfile, delimiter=',', quotechar='\"')\n",
    "        for row in reader:\n",
    "            new_row = []\n",
    "            for cell in row:\n",
    "                # remove linebreaks within a cell\n",
    "                cleaned_cell = cell.replace('\\n', '').replace('\\r', '')\n",
    "                # replace double quotes within a cell\n",
    "                cleaned_cell = cleaned_cell.replace('\"\"', '\"')\n",
    "                new_row.append(cleaned_cell)\n",
    "            rows.append(new_row)\n",
    "\n",
    "    df = pd.DataFrame(rows)\n",
    "\n",
    "    if file_format.lower() == \"csv\":\n",
    "        df.to_csv(output_file, index=False, header=False)\n",
    "    elif file_format.lower() == \"xlsx\":\n",
    "        df.to_excel(output_file, index=False, header=False, engine='openpyxl')\n",
    "    else:\n",
    "        print(f\"Unsupported output file format: {file_format}\")\n",
    "        return\n",
    "\n",
    "input_dir = 'input/'\n",
    "output_dir = 'output/'\n",
    "\n",
    "# Ensure the output directory exists\n",
    "os.makedirs(output_dir, exist_ok=True)\n",
    "\n",
    "# Loop over all files in the input directory\n",
    "for filename in os.listdir(input_dir):\n",
    "    # Skip files that aren't CSVs\n",
    "    if not filename.endswith('.csv'):\n",
    "        continue\n",
    "\n",
    "    # Construct full file paths\n",
    "    input_file = os.path.join(input_dir, filename)\n",
    "    output_file = os.path.join(output_dir, filename)\n",
    "\n",
    "    # Change the extension to the desired output format\n",
    "    output_file = os.path.splitext(output_file)[0] + '.' + 'xlsx'\n",
    "\n",
    "    parse_csv(input_file, output_file, 'xlsx')"
   ]
  }
 ],
 "metadata": {
  "kernelspec": {
   "display_name": "Python 3",
   "language": "python",
   "name": "python3"
  },
  "language_info": {
   "codemirror_mode": {
    "name": "ipython",
    "version": 3
   },
   "file_extension": ".py",
   "mimetype": "text/x-python",
   "name": "python",
   "nbconvert_exporter": "python",
   "pygments_lexer": "ipython3",
   "version": "3.11.1"
  },
  "orig_nbformat": 4
 },
 "nbformat": 4,
 "nbformat_minor": 2
}
